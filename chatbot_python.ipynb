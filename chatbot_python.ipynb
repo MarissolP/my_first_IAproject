{
  "nbformat": 4,
  "nbformat_minor": 0,
  "metadata": {
    "colab": {
      "provenance": [],
      "authorship_tag": "ABX9TyN/ypEnMWo8Sgnoz7JnXap9",
      "include_colab_link": true
    },
    "kernelspec": {
      "name": "python3",
      "display_name": "Python 3"
    },
    "language_info": {
      "name": "python"
    }
  },
  "cells": [
    {
      "cell_type": "markdown",
      "metadata": {
        "id": "view-in-github",
        "colab_type": "text"
      },
      "source": [
        "<a href=\"https://colab.research.google.com/github/MarissolP/my_first_IAproject/blob/main/chatbot_python.ipynb\" target=\"_parent\"><img src=\"https://colab.research.google.com/assets/colab-badge.svg\" alt=\"Open In Colab\"/></a>"
      ]
    },
    {
      "cell_type": "markdown",
      "source": [
        "instalando o SDK do google"
      ],
      "metadata": {
        "id": "7bVj7dnH9n9l"
      }
    },
    {
      "cell_type": "code",
      "execution_count": null,
      "metadata": {
        "id": "dmsVvvtA9Rda"
      },
      "outputs": [],
      "source": [
        "!pip install -q -U google-generativeai"
      ]
    },
    {
      "cell_type": "code",
      "source": [
        "# Import the Python SDK\n",
        "import google.generativeai as genai\n",
        "# Used to securely store your API key\n",
        "from google.colab import userdata\n",
        "api_key = userdata.get('SECRET_KEY')\n",
        "genai.configure(api_key=api_key)"
      ],
      "metadata": {
        "id": "plaf5Ssu-r6Q"
      },
      "execution_count": 42,
      "outputs": []
    },
    {
      "cell_type": "markdown",
      "source": [
        "Listar os modelos disponíveis"
      ],
      "metadata": {
        "id": "BVZuhjlJ_IzT"
      }
    },
    {
      "cell_type": "code",
      "source": [
        "for m in genai.list_models():\n",
        "  if 'generateContent' in m.supported_generation_methods:\n",
        "    print(m.name)"
      ],
      "metadata": {
        "colab": {
          "base_uri": "https://localhost:8080/",
          "height": 139
        },
        "id": "P51XH2UCBhWu",
        "outputId": "1b49450a-8988-4edd-859c-9719c008a1cd"
      },
      "execution_count": null,
      "outputs": [
        {
          "output_type": "stream",
          "name": "stdout",
          "text": [
            "models/gemini-1.0-pro\n",
            "models/gemini-1.0-pro-001\n",
            "models/gemini-1.0-pro-latest\n",
            "models/gemini-1.0-pro-vision-latest\n",
            "models/gemini-1.5-pro-latest\n",
            "models/gemini-pro\n",
            "models/gemini-pro-vision\n"
          ]
        }
      ]
    },
    {
      "cell_type": "markdown",
      "source": [],
      "metadata": {
        "id": "KnzxWnlPBQH_"
      }
    },
    {
      "cell_type": "code",
      "source": [
        "generation_config = {\n",
        "  \"candidate_count\": 1,\n",
        "  \"temperature\": 0.5,\n",
        "  \"top_p\": 0.95,\n",
        "  \"top_k\": 0,\n",
        "}"
      ],
      "metadata": {
        "id": "dtMLsH6XD6eb"
      },
      "execution_count": null,
      "outputs": []
    },
    {
      "cell_type": "code",
      "source": [
        "safety_settings={\n",
        "    'HATE': 'BLOCK_NONE',\n",
        "    'HARASSMENT': 'BLOCK_NONE',\n",
        "    'SEXUAL' : 'BLOCK_NONE',\n",
        "    'DANGEROUS' : 'BLOCK_NONE'\n",
        "    }"
      ],
      "metadata": {
        "id": "PdwtonjsEnTq"
      },
      "execution_count": null,
      "outputs": []
    },
    {
      "cell_type": "markdown",
      "source": [
        "inicializando o modelo"
      ],
      "metadata": {
        "id": "AYgzoX19Gejq"
      }
    },
    {
      "cell_type": "code",
      "source": [
        "model = genai.GenerativeModel(model_name='gemini-1.0-pro',\n",
        "                                  generation_config=generation_config,\n",
        "                                  safety_settings=safety_settings,)"
      ],
      "metadata": {
        "id": "aIQZK2z4Gm7e"
      },
      "execution_count": null,
      "outputs": []
    },
    {
      "cell_type": "code",
      "source": [
        "response = model.generate_content(\"Que empresa criou o modelo de IA Gemini?\")\n",
        "response.text"
      ],
      "metadata": {
        "colab": {
          "base_uri": "https://localhost:8080/",
          "height": 35
        },
        "collapsed": true,
        "id": "gfSHPZDuJQf2",
        "outputId": "c41a3a65-93fc-4b3b-cf70-0c0fd792d84e"
      },
      "execution_count": null,
      "outputs": [
        {
          "output_type": "execute_result",
          "data": {
            "text/plain": [
              "'Google'"
            ],
            "application/vnd.google.colaboratory.intrinsic+json": {
              "type": "string"
            }
          },
          "metadata": {},
          "execution_count": 35
        }
      ]
    },
    {
      "cell_type": "code",
      "source": [
        "chat = model.start_chat(history=[])\n",
        "\n",
        "prompt = input('Esperando prompt: ')\n",
        "\n",
        "while prompt != \"fim\":\n",
        "  response = chat.send_message(prompt)\n",
        "  print(\"Resposta:\", response.text, '\\n\\n')\n",
        "  prompt = input('Esperando prompt: ')"
      ],
      "metadata": {
        "id": "ve98-1gqMlYK",
        "colab": {
          "base_uri": "https://localhost:8080/"
        },
        "outputId": "a369f6c3-01f4-4e71-f2fc-d00467b51b4f"
      },
      "execution_count": 40,
      "outputs": [
        {
          "name": "stdout",
          "output_type": "stream",
          "text": [
            "Esperando prompt: fim\n"
          ]
        }
      ]
    },
    {
      "cell_type": "markdown",
      "source": [
        "melhorando a visualização"
      ],
      "metadata": {
        "id": "OwmUFU8TOKKk"
      }
    },
    {
      "cell_type": "code",
      "source": [
        "#Código disponível em https://ai.google.dev/tutorials/python_quickstart#import_packages\n",
        "import textwrap\n",
        "from IPython.display import display\n",
        "from IPython.display import Markdown\n",
        "\n",
        "def to_markdown(text):\n",
        "  text = text.replace('•', '  *')\n",
        "  return Markdown(textwrap.indent(text, '> ', predicate=lambda _: True))\n",
        "\n",
        "#Imprimindo o histórico\n",
        "for message in chat.history:\n",
        "  display(to_markdown(f'**{message.role}**: {message.parts[0].text}'))\n",
        "  print('-------------------------------------------')"
      ],
      "metadata": {
        "colab": {
          "base_uri": "https://localhost:8080/",
          "height": 1000
        },
        "id": "K7IuCOj1OOTq",
        "outputId": "368543b0-6912-4cb1-9844-b51c0e79e52c"
      },
      "execution_count": null,
      "outputs": [
        {
          "output_type": "display_data",
          "data": {
            "text/plain": [
              "<IPython.core.display.Markdown object>"
            ],
            "text/markdown": "> **user**: Quem foi Thevenin?"
          },
          "metadata": {}
        },
        {
          "output_type": "stream",
          "name": "stdout",
          "text": [
            "-------------------------------------------\n"
          ]
        },
        {
          "output_type": "display_data",
          "data": {
            "text/plain": [
              "<IPython.core.display.Markdown object>"
            ],
            "text/markdown": "> **model**: Léon Charles Thévenin"
          },
          "metadata": {}
        },
        {
          "output_type": "stream",
          "name": "stdout",
          "text": [
            "-------------------------------------------\n"
          ]
        },
        {
          "output_type": "display_data",
          "data": {
            "text/plain": [
              "<IPython.core.display.Markdown object>"
            ],
            "text/markdown": "> **user**: Qual o Teorema dele?"
          },
          "metadata": {}
        },
        {
          "output_type": "stream",
          "name": "stdout",
          "text": [
            "-------------------------------------------\n"
          ]
        },
        {
          "output_type": "display_data",
          "data": {
            "text/plain": [
              "<IPython.core.display.Markdown object>"
            ],
            "text/markdown": "> **model**: **Teorema de Thévenin**\n> \n> O Teorema de Thévenin afirma que qualquer circuito linear pode ser reduzido a um circuito equivalente que consiste em uma fonte de tensão ideal em série com um resistor.\n> \n> **Procedimento para encontrar o equivalente de Thévenin:**\n> \n> 1. Remova a carga do circuito.\n> 2. Encontre a tensão de circuito aberto (Voc) nos terminais onde a carga foi removida.\n> 3. Encontre a resistência interna (Rth) do circuito olhando para dentro dos terminais onde a carga foi removida. Isso pode ser feito calculando a resistência equivalente da fonte e dos resistores internos do circuito.\n> 4. O circuito equivalente de Thévenin consiste em uma fonte de tensão ideal com tensão Voc em série com um resistor com resistência Rth.\n> \n> **Aplicações:**\n> \n> * Análise de circuitos\n> * Projeto de circuitos\n> * Solução de problemas de circuitos"
          },
          "metadata": {}
        },
        {
          "output_type": "stream",
          "name": "stdout",
          "text": [
            "-------------------------------------------\n"
          ]
        },
        {
          "output_type": "display_data",
          "data": {
            "text/plain": [
              "<IPython.core.display.Markdown object>"
            ],
            "text/markdown": "> **user**: Quais são os principais teoremas da elétrica?"
          },
          "metadata": {}
        },
        {
          "output_type": "stream",
          "name": "stdout",
          "text": [
            "-------------------------------------------\n"
          ]
        },
        {
          "output_type": "display_data",
          "data": {
            "text/plain": [
              "<IPython.core.display.Markdown object>"
            ],
            "text/markdown": "> **model**: **Principais Teoremas da Elétrica:**\n> \n> * **Lei de Ohm:** V = IR\n> * **Leis de Kirchhoff:**\n>     * Lei das Correntes: A soma das correntes que entram em um nó é igual à soma das correntes que saem do nó.\n>     * Lei das Tensões: A soma das tensões ao redor de qualquer loop fechado é igual a zero.\n> * **Teorema de Superposição:** A resposta de um circuito linear a várias fontes é igual à soma das respostas a cada fonte agindo sozinha.\n> * **Teorema de Thévenin:** Qualquer circuito linear pode ser reduzido a um circuito equivalente que consiste em uma fonte de tensão ideal em série com um resistor.\n> * **Teorema de Norton:** Qualquer circuito linear pode ser reduzido a um circuito equivalente que consiste em uma fonte de corrente ideal em paralelo com um resistor.\n> * **Teorema de Máxima Transferência de Potência:** A potência máxima é transferida de uma fonte para uma carga quando a resistência da carga é igual à resistência interna da fonte.\n> * **Teorema de Reciprocidade:** Em um circuito linear, a corrente que flui através de um ramo quando uma tensão é aplicada em outro ramo é a mesma corrente que fluiria através do segundo ramo se a tensão fosse aplicada no primeiro ramo.\n> * **Teorema de Millman:** A tensão em um nó de um circuito linear é igual à soma das tensões das fontes conectadas ao nó dividida pela soma das condutâncias das fontes.\n> \n> Esses teoremas são ferramentas fundamentais usadas para analisar, projetar e solucionar problemas em circuitos elétricos."
          },
          "metadata": {}
        },
        {
          "output_type": "stream",
          "name": "stdout",
          "text": [
            "-------------------------------------------\n"
          ]
        },
        {
          "output_type": "display_data",
          "data": {
            "text/plain": [
              "<IPython.core.display.Markdown object>"
            ],
            "text/markdown": "> **user**: Fim "
          },
          "metadata": {}
        },
        {
          "output_type": "stream",
          "name": "stdout",
          "text": [
            "-------------------------------------------\n"
          ]
        },
        {
          "output_type": "display_data",
          "data": {
            "text/plain": [
              "<IPython.core.display.Markdown object>"
            ],
            "text/markdown": "> **model**: Obrigado por usar meus serviços. Estou sempre aprendendo e melhorando, então se você tiver algum feedback ou pergunta, por favor me avise."
          },
          "metadata": {}
        },
        {
          "output_type": "stream",
          "name": "stdout",
          "text": [
            "-------------------------------------------\n"
          ]
        }
      ]
    }
  ]
}